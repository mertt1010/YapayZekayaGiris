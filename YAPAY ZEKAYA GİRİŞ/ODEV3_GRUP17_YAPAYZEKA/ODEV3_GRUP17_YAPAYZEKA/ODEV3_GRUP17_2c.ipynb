{
  "cells": [
    {
      "cell_type": "markdown",
      "metadata": {
        "id": "punL79CN7Ox6"
      },
      "source": [
        "##### Copyright 2018 The TensorFlow Authors."
      ]
    },
    {
      "cell_type": "code",
      "execution_count": null,
      "metadata": {
        "cellView": "form",
        "id": "_ckMIh7O7s6D"
      },
      "outputs": [],
      "source": [
        "#@title Licensed under the Apache License, Version 2.0 (the \"License\");\n",
        "# you may not use this file except in compliance with the License.\n",
        "# You may obtain a copy of the License at\n",
        "#\n",
        "# https://www.apache.org/licenses/LICENSE-2.0\n",
        "#\n",
        "# Unless required by applicable law or agreed to in writing, software\n",
        "# distributed under the License is distributed on an \"AS IS\" BASIS,\n",
        "# WITHOUT WARRANTIES OR CONDITIONS OF ANY KIND, either express or implied.\n",
        "# See the License for the specific language governing permissions and\n",
        "# limitations under the License."
      ]
    },
    {
      "cell_type": "code",
      "execution_count": null,
      "metadata": {
        "cellView": "form",
        "id": "vasWnqRgy1H4"
      },
      "outputs": [],
      "source": [
        "#@title MIT License\n",
        "#\n",
        "# Copyright (c) 2017 François Chollet\n",
        "#\n",
        "# Permission is hereby granted, free of charge, to any person obtaining a\n",
        "# copy of this software and associated documentation files (the \"Software\"),\n",
        "# to deal in the Software without restriction, including without limitation\n",
        "# the rights to use, copy, modify, merge, publish, distribute, sublicense,\n",
        "# and/or sell copies of the Software, and to permit persons to whom the\n",
        "# Software is furnished to do so, subject to the following conditions:\n",
        "#\n",
        "# The above copyright notice and this permission notice shall be included in\n",
        "# all copies or substantial portions of the Software.\n",
        "#\n",
        "# THE SOFTWARE IS PROVIDED \"AS IS\", WITHOUT WARRANTY OF ANY KIND, EXPRESS OR\n",
        "# IMPLIED, INCLUDING BUT NOT LIMITED TO THE WARRANTIES OF MERCHANTABILITY,\n",
        "# FITNESS FOR A PARTICULAR PURPOSE AND NONINFRINGEMENT. IN NO EVENT SHALL\n",
        "# THE AUTHORS OR COPYRIGHT HOLDERS BE LIABLE FOR ANY CLAIM, DAMAGES OR OTHER\n",
        "# LIABILITY, WHETHER IN AN ACTION OF CONTRACT, TORT OR OTHERWISE, ARISING\n",
        "# FROM, OUT OF OR IN CONNECTION WITH THE SOFTWARE OR THE USE OR OTHER\n",
        "# DEALINGS IN THE SOFTWARE."
      ]
    },
    {
      "cell_type": "markdown",
      "metadata": {
        "id": "jYysdyb-CaWM"
      },
      "source": [
        "# Classifying Images of Clothing"
      ]
    },
    {
      "cell_type": "markdown",
      "metadata": {
        "id": "S5Uhzt6vVIB2"
      },
      "source": [
        "<table class=\"tfo-notebook-buttons\" align=\"left\">\n",
        "  <td>\n",
        "    <a target=\"_blank\" href=\"https://colab.research.google.com/github/tensorflow/examples/blob/master/courses/udacity_intro_to_tensorflow_for_deep_learning/l03c01_classifying_images_of_clothing.ipynb\"><img src=\"https://www.tensorflow.org/images/colab_logo_32px.png\" />Run in Google Colab</a>\n",
        "  </td>\n",
        "  <td>\n",
        "    <a target=\"_blank\" href=\"https://github.com/tensorflow/examples/blob/master/courses/udacity_intro_to_tensorflow_for_deep_learning/l03c01_classifying_images_of_clothing.ipynb\"><img src=\"https://www.tensorflow.org/images/GitHub-Mark-32px.png\" />View source on GitHub</a>\n",
        "  </td>\n",
        "</table>"
      ]
    },
    {
      "cell_type": "markdown",
      "metadata": {
        "id": "Y4LXEevt302k"
      },
      "source": [
        "Aşağıdaki komut tenserflow kütüphanesini son sürümüne yükseltmemizi sağlar."
      ]
    },
    {
      "cell_type": "code",
      "execution_count": null,
      "metadata": {
        "id": "P7mUJVqcINSM"
      },
      "outputs": [],
      "source": [
        "# pip install -U tensorflow_datasets"
      ]
    },
    {
      "cell_type": "code",
      "execution_count": null,
      "metadata": {
        "id": "_FxXYSCXGQqQ"
      },
      "outputs": [],
      "source": [
        "import tensorflow as tf"
      ]
    },
    {
      "cell_type": "markdown",
      "metadata": {
        "id": "etIBq0ta302m"
      },
      "source": [
        "Aşağıda kullandığımız kütüphaneleri açıklamamız gerekirse\n",
        "- TensorFlow görüntüler, metin, ses ve video dahil olmak üzere çeşitli veri kümelerine kolay ve verimli erişim sağlar. Eğitim ve değerlendirme için veri kümesi hazırlama ve biçimlendirme işlemlerini kolaylaştırır.\n",
        "- tfds.disable_progress_bar(), veri kümelerini yüklerken gösterilen ilerleme çubuğunu devre dışı bırakır.\n",
        "- NumPy bilimsel hesaplama için bir Python kütüphanesidir.Güçlü bir N-boyutlu dizi nesnesi sağlar. Dizilerle işlem yapmak için matematiksel işlemler, doğrusal cebir ve rastgele sayı üretimi de dahil olmak üzere geniş bir işlev yelpazesi sunar.\n",
        "- Matplotlib statik, animasyonlu ve etkileşimli görselleştirmeler oluşturmak için bir Python kütüphanesidir. Çizgi grafikler, dağılım grafikleri, sütun grafikleri ve histogramlar dahil olmak üzere çeşitli çizim işlevleri sağlar.\n"
      ]
    },
    {
      "cell_type": "code",
      "execution_count": null,
      "metadata": {
        "id": "1UbK0Uq7GWaO"
      },
      "outputs": [],
      "source": [
        "# Import TensorFlow Datasets\n",
        "import tensorflow_datasets as tfds\n",
        "tfds.disable_progress_bar()\n",
        "\n",
        "# Helper libraries\n",
        "import math\n",
        "import numpy as np\n",
        "import matplotlib.pyplot as plt"
      ]
    },
    {
      "cell_type": "markdown",
      "metadata": {
        "id": "zSTw-lPI302m"
      },
      "source": [
        "- Burada ise \"logger = tf.get_logger()\" satırı tensorFlow logger nesnesini alır. Logger, TensorFlow kütüphaneleri ve modülleri tarafından oluşturulan iletileri kaydetmek için kullanılır.\n",
        "- logger.setLevel(logging.ERROR) kısmı ise tensorFlow logger'ının loglama seviyesini ERROR olarak ayarlar. Bu, yalnızca ERROR veya daha yüksek bir ciddiyet seviyesine sahip iletilerin kaydedileceği anlamına gelir. Logging modülü DEBUG, INFO, WARNING, ERROR ve CRITICAL dahil olmak üzere birkaç loglama seviyesi tanımlar.\n",
        "Loglama seviyesini ERROR olarak ayarlamak, yalnızca önemli hata iletilerinin kaydedilmesini sağlar."
      ]
    },
    {
      "cell_type": "code",
      "execution_count": null,
      "metadata": {
        "id": "590z76KRGtKk"
      },
      "outputs": [],
      "source": [
        "import logging\n",
        "logger = tf.get_logger()\n",
        "logger.setLevel(logging.ERROR)"
      ]
    },
    {
      "cell_type": "markdown",
      "metadata": {
        "id": "yR0EdgrLCaWR"
      },
      "source": [
        "## Import the Fashion MNIST dataset"
      ]
    },
    {
      "cell_type": "markdown",
      "metadata": {
        "id": "DLdCchMdCaWQ"
      },
      "source": [
        "This guide uses the [Fashion MNIST](https://github.com/zalandoresearch/fashion-mnist) dataset, which contains 70,000 grayscale images in 10 categories. The images show individual articles of clothing at low resolution (28 $\\times$ 28 pixels), as seen here:\n",
        "\n",
        "<table>\n",
        "  <tr><td>\n",
        "    <img src=\"https://tensorflow.org/images/fashion-mnist-sprite.png\"\n",
        "         alt=\"Fashion MNIST sprite\" width=\"600\">\n",
        "  </td></tr>\n",
        "  <tr><td align=\"center\">\n",
        "    <b>Figure 1.</b> <a href=\"https://github.com/zalandoresearch/fashion-mnist\">Fashion-MNIST samples</a> (by Zalando, MIT License).<br/>&nbsp;\n",
        "  </td></tr>\n",
        "</table>\n",
        "\n",
        "Fashion MNIST is intended as a drop-in replacement for the classic [MNIST](http://yann.lecun.com/exdb/mnist/) dataset—often used as the \"Hello, World\" of machine learning programs for computer vision. The MNIST dataset contains images of handwritten digits (0, 1, 2, etc) in an identical format to the articles of clothing we'll use here.\n",
        "\n",
        "This guide uses Fashion MNIST for variety, and because it's a slightly more challenging problem than regular MNIST. Both datasets are relatively small and are used to verify that an algorithm works as expected. They're good starting points to test and debug code.\n",
        "\n",
        "We will use 60,000 images to train the network and 10,000 images to evaluate how accurately the network learned to classify images. You can access the Fashion MNIST directly from TensorFlow, using the [Datasets](https://www.tensorflow.org/datasets) API:"
      ]
    },
    {
      "cell_type": "markdown",
      "metadata": {
        "id": "_bBOfOW3302n"
      },
      "source": [
        "- Aşağıdaki ilk satır TensorFlow Veri Kümeleri'nden Fashion MNIST veri kümesini yükler.\n",
        "- İkinci satırda ise veri kümelerini antrenman ve test verisi olarak ikiye böler."
      ]
    },
    {
      "cell_type": "code",
      "execution_count": null,
      "metadata": {
        "id": "7MqDQO0KCaWS"
      },
      "outputs": [],
      "source": [
        "dataset, metadata = tfds.load('fashion_mnist', as_supervised=True, with_info=True)\n",
        "train_dataset, test_dataset = dataset['train'], dataset['test']"
      ]
    },
    {
      "cell_type": "markdown",
      "metadata": {
        "id": "GEurNclh302n"
      },
      "source": [
        "- Class_names kısmı, veri kümesi meta verisinden farklı sınıfların isimlerini çıkarır. Fashion MNIST veri kümesinde 10 farklı giyim eşyası sınıfı bulunmaktadır.\n",
        "Sınıf isimleri, veri kümesi meta verisinin etiket özelliği altında saklanmaktadır.\n",
        "Sınıf isimlerini çıkarmak, veri kümesindeki farklı giyim eşyalarını kolayca tanımlamanıza olanak tanır.\n",
        "Bu bilgi, veriyi anlamak ve veri kümesinde eğitilen bir makine öğrenimi modelinin performansını değerlendirmek için kullanışlı olabilir. Devamında print satırında ise bu class isimlerini yazdırıyoruz."
      ]
    },
    {
      "cell_type": "code",
      "execution_count": null,
      "metadata": {
        "id": "IjnLH5S2CaWx"
      },
      "outputs": [],
      "source": [
        "class_names = metadata.features['label'].names\n",
        "print(\"Class names: {}\".format(class_names))"
      ]
    },
    {
      "cell_type": "markdown",
      "metadata": {
        "id": "k0NOV4lI302o"
      },
      "source": [
        "- Bu satırlar, veri kümesi meta verisinden eğitim ve test örneklerinin sayısını çıkarır.\n",
        "- Fashion MNIST veri kümesi, 70,000 görüntüden oluşur ve bunlar 60,000 eğitim görüntüsü ve 10,000 test görüntüsüne ayrılmıştır.\n",
        "Örnek sayısını çıkarmak, veri kümesinin boyutunu kolayca görmek ve verinin eğitim ve test arasındaki dağılımını anlamak için kullanışlıdır."
      ]
    },
    {
      "cell_type": "code",
      "execution_count": null,
      "metadata": {
        "id": "MaOTZxFzi48X"
      },
      "outputs": [],
      "source": [
        "num_train_examples = metadata.splits['train'].num_examples\n",
        "num_test_examples = metadata.splits['test'].num_examples\n",
        "print(\"Eğitim örneği sayısı: {}\".format(num_train_examples))\n",
        "print(\"Test örneği sayısı:   {}\".format(num_test_examples))"
      ]
    },
    {
      "cell_type": "markdown",
      "metadata": {
        "id": "dgY2dcoO302o"
      },
      "source": [
        "- Bu fonksiyon, bir görüntü ve etiketler kümesini girdi olarak alır ve görüntüleri normalize eder.\n",
        "tf.cast(goruntuler, tf.float32): Bu, görüntüleri orijinal veri türlerinden (örneğin, uint8) kayan nokta değerlere dönüştürür.\n",
        "goruntuler /= 255: Bu, her piksel değerini 255'e böler ve piksel değerlerini 0 ile 1 arasında bir aralığa normalize eder.\n",
        "- Bu satırlar, map işlevini kullanarak normalize fonksiyonunu eğitim ve test veri kümelerindeki her öğeye uygular.Map işlevi bir veri kümesindeki öğelere dönüşümler uygulamak için güçlü bir araçtır.\n",
        "Bu, normalizasyon, boyutlandırma ve veri artırma gibi çeşitli ön işleme adımlarını gerçekleştirmek için kullanılabilir.\n",
        " - train dataset ve test dataset kısmında ise hem eğitim hem de test veri kümelerinin öğelerini bellekte önbelleğe alır. Bu, özellikle veri kümeleri büyükse veya yavaş bir depolama cihazı kullanıyorsanız eğitim döngünüzün performansını artırabilir.Cache yöntemi ayrıca dağıtılmış eğitimin performansını artırmak için de kullanılabilir."
      ]
    },
    {
      "cell_type": "code",
      "execution_count": null,
      "metadata": {
        "id": "nAsH3Zm-76pB"
      },
      "outputs": [],
      "source": [
        "def normalize(images, labels):\n",
        "  images = tf.cast(images, tf.float32)\n",
        "  images /= 255\n",
        "  return images, labels\n",
        "\n",
        "# The map function applies the normalize function to each element in the train\n",
        "# and test datasets\n",
        "train_dataset =  train_dataset.map(normalize)\n",
        "test_dataset  =  test_dataset.map(normalize)\n",
        "\n",
        "# The first time you use the dataset, the images will be loaded from disk\n",
        "# Caching will keep them in memory, making training faster\n",
        "train_dataset =  train_dataset.cache()\n",
        "test_dataset  =  test_dataset.cache()"
      ]
    },
    {
      "cell_type": "markdown",
      "metadata": {
        "id": "3Oeuit4L302p"
      },
      "source": [
        "- For döngüsü, test veri kümesi üzerinde dolaşır ve sadece ilk öğeyi alır. break ifadesi, ilk öğeyi aldıktan sonra döngüden çıkar.\n",
        "- Görüntü değişkeni başlangıçta üç boyuta sahiptir: yükseklik, genişlik ve renk kanalları. Bu satır, renk boyutunu kaldırarak görüntüyü iki boyutlu bir diziye yeniden şekillendirir.\n",
        "- Plot kısmı TensorFlow veri kümesinden bir tek görüntü almayı, renk boyutunu kaldırmayı ve sonra görüntüyü çizmeyi sağlar."
      ]
    },
    {
      "cell_type": "code",
      "execution_count": null,
      "metadata": {
        "id": "oSzE9l7PjHx0"
      },
      "outputs": [],
      "source": [
        "# Take a single image, and remove the color dimension by reshaping\n",
        "for image, label in test_dataset.take(1):\n",
        "  break\n",
        "image = image.numpy().reshape((28,28))\n",
        "\n",
        "# Plot the image - voila a piece of fashion clothing\n",
        "plt.figure()\n",
        "plt.imshow(image, cmap=plt.cm.binary)\n",
        "plt.colorbar()\n",
        "plt.grid(False)\n",
        "plt.show()"
      ]
    },
    {
      "cell_type": "markdown",
      "metadata": {
        "id": "WUAzdvfW302p"
      },
      "source": [
        "- 10x10 inç boyutunda yeni bir figür nesnesi oluşturulur.\n",
        "- Döngü, eğitim veri kümesinin ilk 25 öğesinde dolaşır. İ değişkeni döngüdeki mevcut dizini tutar. Görüntü değişkeni mevcut görüntüyü tutar.  Label mevcut classı tutar.\n",
        "- İmage görüntüyü bir NumPy dizisine dönüştürür ve renk boyutunu kaldırarak iki boyutlu bir diziye yeniden şekillendirir devamında görüntü çizilir."
      ]
    },
    {
      "cell_type": "code",
      "execution_count": null,
      "metadata": {
        "id": "oZTImqg_CaW1"
      },
      "outputs": [],
      "source": [
        "plt.figure(figsize=(10,10))\n",
        "for i, (image, label) in enumerate(train_dataset.take(25)):\n",
        "    image = image.numpy().reshape((28,28))\n",
        "    plt.subplot(5,5,i+1)\n",
        "    plt.xticks([])\n",
        "    plt.yticks([])\n",
        "    plt.grid(False)\n",
        "    plt.imshow(image, cmap=plt.cm.binary)\n",
        "    plt.xlabel(class_names[label])\n",
        "plt.show()"
      ]
    },
    {
      "cell_type": "markdown",
      "metadata": {
        "id": "g3HyW7_O302q"
      },
      "source": [
        "- Bu kod parçası, Fashion MNIST görüntülerini sınıflandırmak için bir TensorFlow Keras modeli tanımlar. Model üç katmandan oluşur:\n",
        "Flatten katmanı: Bu katman, 2D girdi görüntüsünü (28x28 piksel) 1D bir vektöre dönüştürür. Bu, modeldeki sonraki katmanların 1D bir girdi beklemesi gerektiği için gereklidir.\n",
        "128 birime sahip Dense katmanı: Bu katman, 128 gizli birime sahip tam bağlantılı bir katmandır. Girişe ReLU aktivasyon fonksiyonunu uygular.\n",
        "10 birime sahip Dense katmanı:Bu katman da tam bağlantılı bir katmandır, ancak 10 birime sahiptir ve Fashion MNIST veri kümesindeki 10 giyim sınıfına karşılık gelir. Girişe softmax aktivasyon fonksiyonunu uygular, bu da 10 sınıf üzerinde bir olasılık dağılımı çıktısı verir.\n",
        "Genel olarak, bu model Fashion MNIST görüntülerini sınıflandırmak için kullanılabilecek basit bir besleme ileri yapılı bir sinir ağıdır.\n",
        "\n"
      ]
    },
    {
      "cell_type": "code",
      "execution_count": null,
      "metadata": {
        "id": "9ODch-OFCaW4"
      },
      "outputs": [],
      "source": [
        "model = tf.keras.Sequential([\n",
        "    tf.keras.layers.Flatten(input_shape=(28, 28, 1)),\n",
        "    tf.keras.layers.Dense(128+66, activation=tf.nn.relu),\n",
        "    tf.keras.layers.Dense(64, activation=tf.nn.relu), # katman ikinci gizli\n",
        "    tf.keras.layers.Dense(32, activation=tf.nn.relu), # katman üç gizli\n",
        "    tf.keras.layers.Dense(10, activation=tf.nn.softmax)\n",
        "])"
      ]
    },
    {
      "cell_type": "markdown",
      "metadata": {
        "id": "063hZtt0302q"
      },
      "source": [
        "- Bu kısımda 128 e 66 ekliyeceğiz. 20 + 27 + 09 olduğu için 66 değerini ekliyoruz"
      ]
    },
    {
      "cell_type": "code",
      "execution_count": null,
      "metadata": {
        "id": "Lhan11blCaW7"
      },
      "outputs": [],
      "source": [
        "model.compile(optimizer='adam',\n",
        "              loss=tf.keras.losses.SparseCategoricalCrossentropy(),\n",
        "              metrics=['accuracy'])"
      ]
    },
    {
      "cell_type": "markdown",
      "metadata": {
        "id": "S0l7zF3I302r"
      },
      "source": [
        "- Egitim_veri_kumesi.cache(): Bu, eğitim veri kümesinin öğelerini bellekte önbelleğe alır. Bu, özellikle veri kümesi büyükse veya yavaş bir depolama cihazı kullanıyorsanız eğitim döngünüzün performansını artırabilir.\n",
        "egitim_veri_kumesi.repeat(): Bu, eğitim veri kümesini sürekli olarak tekrarlar. Bu, modelin birden çok epoch için eğitileceği için gereklidir.\n",
        "egitim_veri_kumesi.shuffle(num_train_examples): Bu, eğitim veri kümesinin öğelerini karıştırır. Bu, modelin çeşitli örneklerden öğrenmesini ve eğitim verilerine aşırı uymasını engellemeye yardımcı olur.\n",
        "egitim_veri_kumesi.batch(BATCH_SIZE): Bu, eğitim veri kümesinin öğelerini 32'lik gruplara böler. Bu, eğitim sürecinin verimliliğini artırmaya yardımcı olur."
      ]
    },
    {
      "cell_type": "code",
      "execution_count": null,
      "metadata": {
        "id": "o_Dp8971McQ1"
      },
      "outputs": [],
      "source": [
        "BATCH_SIZE = 32\n",
        "train_dataset = train_dataset.cache().repeat().shuffle(num_train_examples).batch(BATCH_SIZE)\n",
        "test_dataset = test_dataset.cache().batch(BATCH_SIZE)"
      ]
    },
    {
      "cell_type": "markdown",
      "metadata": {
        "id": "xbWD5ol8302r"
      },
      "source": [
        "- Bu kısımda, Öğrenci numarası en düşük olan değerimiz 9 olduğu için epoch değerini 9'a eşitledik. bu saydede deneme sayımızın fazla olmaması ile değerlerin ezberlenmesinin önüne geçip, en düşük deneme sayımızla deneyi sürdürüyoruz."
      ]
    },
    {
      "cell_type": "code",
      "execution_count": null,
      "metadata": {
        "id": "xvwvpA64CaW_"
      },
      "outputs": [],
      "source": [
        "model.fit(train_dataset, epochs=5, steps_per_epoch=math.ceil(num_train_examples/BATCH_SIZE))"
      ]
    },
    {
      "cell_type": "markdown",
      "metadata": {
        "id": "SjhK_1KW302s"
      },
      "source": [
        "- Burada TensorFlow Keras modelini test veri kümesinde değerlendirir ve test doğruluğunu hesaplar. Model.evaluate() yöntemi ile test veri kümesi üzerindeki performansını ölçer ve iki değer döndürür: test kaybı ve test doğruluğu. Sonrasında, bu test doğruluğu ekrana yazdırılır. Bu kod , eğitilmiş modelin test veri kümesindeki doğruluğunu değerlendirerek performansını ölçmemizi sağlar."
      ]
    },
    {
      "cell_type": "code",
      "execution_count": null,
      "metadata": {
        "id": "VflXLEeECaXC"
      },
      "outputs": [],
      "source": [
        "test_loss, test_accuracy = model.evaluate(test_dataset, steps=math.ceil(num_test_examples/32))\n",
        "print('Accuracy on test dataset:', test_accuracy)"
      ]
    },
    {
      "cell_type": "markdown",
      "metadata": {
        "id": "zIevwqor302s"
      },
      "source": [
        "\n",
        "- Bu kısım, test veri kümesinden tek bir parti görüntü ve etiket alır, bunları NumPy dizilerine dönüştürür ve eğitilmiş modeli her bir görüntünün sınıfını tahmin etmek için kullanır."
      ]
    },
    {
      "cell_type": "code",
      "execution_count": null,
      "metadata": {
        "id": "Ccoz4conNCpl"
      },
      "outputs": [],
      "source": [
        "for test_images, test_labels in test_dataset.take(1):\n",
        "  test_images = test_images.numpy()\n",
        "  test_labels = test_labels.numpy()\n",
        "  predictions = model.predict(test_images)"
      ]
    },
    {
      "cell_type": "markdown",
      "metadata": {
        "id": "RyTFt8Wi302t"
      },
      "source": [
        "- Predictions.shape, NumPy dizisinin boyutunu ve şeklini veren bir özelliktir. Bu özellik, bir dizi içindeki öğelerin düzenini ve sayısını belirtir. Bu şekil bilgisi, dizinin ne kadar boyutta olduğunu ve her boyutta kaç öğe olduğunu anlamamıza yardımcı olur."
      ]
    },
    {
      "cell_type": "code",
      "execution_count": null,
      "metadata": {
        "id": "Gl91RPhdCaXI"
      },
      "outputs": [],
      "source": [
        "predictions.shape\n"
      ]
    },
    {
      "cell_type": "markdown",
      "metadata": {
        "id": "DWlw-602302t"
      },
      "source": [
        "-\n",
        "Predictions[0], predictions adlı NumPy dizisinin ilk öğesine erişim sağlar. Bu durumda, predictions bir (32, 10) şeklinde bir NumPy dizisi olduğundan, predictions[0] ifadesi, bu dizinin ilk satırına erişir. Bu ilk satır, modelin ilk görüntü için yaptığı sınıf olasılıklarını içerir."
      ]
    },
    {
      "cell_type": "code",
      "execution_count": null,
      "metadata": {
        "id": "3DmJEUinCaXK"
      },
      "outputs": [],
      "source": [
        "predictions[0]"
      ]
    },
    {
      "cell_type": "markdown",
      "metadata": {
        "id": "-B2FPiCd302u"
      },
      "source": [
        "- Predictions[0]: Bu, predictions dizisinin ilk satırını seçer. Bu satır, parti içindeki ilk görüntüler için yapılan tahminlere karşılık gelir.\n",
        "np.argmax: Bu işlev, bir dizideki en yüksek değere sahip öğenin indeksini döndürür.\n",
        "Bu nedenle, np.argmax(predictions[0]) ifadesi, parti içindeki ilk görüntü için en yüksek olasılığa sahip sınıfın indeksini döndürür."
      ]
    },
    {
      "cell_type": "code",
      "execution_count": null,
      "metadata": {
        "id": "qsqenuPnCaXO"
      },
      "outputs": [],
      "source": [
        "np.argmax(predictions[0])"
      ]
    },
    {
      "cell_type": "markdown",
      "metadata": {
        "id": "wTc0Nb4m302u"
      },
      "source": [
        "- Test_labels dizisi, partideki tüm görüntülerin gerçek etiketlerini içerir. Kod parçası bir parti üzerinde döndüğü için, test_labels dizisinin şekli (32,) olacaktır, burada 32 parti boyutunu temsil eder."
      ]
    },
    {
      "cell_type": "code",
      "execution_count": null,
      "metadata": {
        "id": "Sd7Pgsu6CaXP"
      },
      "outputs": [],
      "source": [
        "test_labels[0]"
      ]
    },
    {
      "cell_type": "markdown",
      "metadata": {
        "id": "ygh2yYC972ne"
      },
      "source": [
        "We can graph this to look at the full set of 10 class predictions"
      ]
    },
    {
      "cell_type": "markdown",
      "metadata": {
        "id": "bJvBye3-302v"
      },
      "source": [
        " - plot_image(i, predictions_array, true_labels, images): Bu fonksiyon, verilen indeksteki bir resmi ve modelin tahmin ettiği sınıfı gerçek sınıf etiketiyle birlikte görsel olarak karşılaştırır. İlk olarak, verilen indeksteki resmi, tahminleri ve gerçek etiketi alır. Daha sonra, grafiği oluştururken grid çizgilerini ve eksen işaretçilerini kapatır. Resmi imshow fonksiyonuyla görüntüler ve sınıf etiketlerini ekler. Eğer tahmin doğruysa metin mavi, yanlışsa kırmızı renkte olur. Bu fonksiyon, modelin tahminlerini ve gerçek etiketleri görsel olarak incelemek ve modelin performansını değerlendirmek için kullanılır.\n",
        "\n",
        "- plot_value_array(i, predictions_array, true_label): Bu fonksiyon, bir görüntü için modelin her bir sınıf için tahmin ettiği olasılıkları bar grafik olarak görselleştirir. İlk olarak, verilen indeksteki tahmin dizisini ve gerçek etiketi alır. Sonra, grafik oluştururken grid çizgilerini ve x eksen işaretçilerini kapatır. bar fonksiyonuyla her bir sınıf için tahmin edilen olasılığı görselleştirir. En yüksek olasılığa sahip sınıf kırmızı, gerçek sınıf mavi olarak gösterilir. Bu fonksiyon, modelin her bir sınıf için tahmin edilen olasılıklarını görsel olarak incelemek ve modelin sınıflandırma yeteneğini anlamak için kullanılır.\n",
        "\n",
        "- Bu iki fonksiyon birlikte, modelin tahminlerini görsel olarak inceleyerek modelin ne kadar doğru tahminler yaptığını ve hangi sınıflar için zorluk yaşadığını anlamamıza yardımcı olur."
      ]
    },
    {
      "cell_type": "code",
      "execution_count": null,
      "metadata": {
        "id": "DvYmmrpIy6Y1"
      },
      "outputs": [],
      "source": [
        "def plot_image(i, predictions_array, true_labels, images):\n",
        "  predictions_array, true_label, img = predictions_array[i], true_labels[i], images[i]\n",
        "  plt.grid(False)\n",
        "  plt.xticks([])\n",
        "  plt.yticks([])\n",
        "\n",
        "  plt.imshow(img[...,0], cmap=plt.cm.binary)\n",
        "\n",
        "  predicted_label = np.argmax(predictions_array)\n",
        "  if predicted_label == true_label:\n",
        "    color = 'blue'\n",
        "  else:\n",
        "    color = 'red'\n",
        "\n",
        "  plt.xlabel(\"{} {:2.0f}% ({})\".format(class_names[predicted_label],\n",
        "                                100*np.max(predictions_array),\n",
        "                                class_names[true_label]),\n",
        "                                color=color)\n",
        "\n",
        "def plot_value_array(i, predictions_array, true_label):\n",
        "  predictions_array, true_label = predictions_array[i], true_label[i]\n",
        "  plt.grid(False)\n",
        "  plt.xticks([])\n",
        "  plt.yticks([])\n",
        "  thisplot = plt.bar(range(10), predictions_array, color=\"#777777\")\n",
        "  plt.ylim([0, 1])\n",
        "  predicted_label = np.argmax(predictions_array)\n",
        "\n",
        "  thisplot[predicted_label].set_color('red')\n",
        "  thisplot[true_label].set_color('blue')"
      ]
    },
    {
      "cell_type": "markdown",
      "metadata": {
        "id": "lsXeC25U302v"
      },
      "source": [
        " - Bu iki kısım, modelin test veri kümesindeki ilk resim için tahminlerini görselleştirmek için plot_image ve plot_value_array fonksiyonlarını kullanan iki alt grafikli bir şekil oluşturur."
      ]
    },
    {
      "cell_type": "code",
      "execution_count": null,
      "metadata": {
        "id": "HV5jw-5HwSmO"
      },
      "outputs": [],
      "source": [
        "i = 0\n",
        "plt.figure(figsize=(6,3))\n",
        "plt.subplot(1,2,1)\n",
        "plot_image(i, predictions, test_labels, test_images)\n",
        "plt.subplot(1,2,2)\n",
        "plot_value_array(i, predictions, test_labels)"
      ]
    },
    {
      "cell_type": "code",
      "execution_count": null,
      "metadata": {
        "id": "Ko-uzOufSCSe"
      },
      "outputs": [],
      "source": [
        "i = 12\n",
        "plt.figure(figsize=(6,3))\n",
        "plt.subplot(1,2,1)\n",
        "plot_image(i, predictions, test_labels, test_images)\n",
        "plt.subplot(1,2,2)\n",
        "plot_value_array(i, predictions, test_labels)"
      ]
    },
    {
      "cell_type": "markdown",
      "metadata": {
        "id": "OJLj3gwU302w"
      },
      "source": [
        "- Bu kısım test veri kümesindeki birden fazla resmin modelin tahminlerini ve olasılıklarını görselleştirmek için kullanılır. Bu, modelin performansını genel olarak değerlendirmenize ve tahminlerin doğruluğunu kontrol etmenize yardımcı olabilir."
      ]
    },
    {
      "cell_type": "code",
      "execution_count": null,
      "metadata": {
        "id": "hQlnbqaw2Qu_"
      },
      "outputs": [],
      "source": [
        "# Plot the first X test images, their predicted label, and the true label\n",
        "# Color correct predictions in blue, incorrect predictions in red\n",
        "num_rows = 5\n",
        "num_cols = 3\n",
        "num_images = num_rows*num_cols\n",
        "plt.figure(figsize=(2*2*num_cols, 2*num_rows))\n",
        "for i in range(num_images):\n",
        "  plt.subplot(num_rows, 2*num_cols, 2*i+1)\n",
        "  plot_image(i, predictions, test_labels, test_images)\n",
        "  plt.subplot(num_rows, 2*num_cols, 2*i+2)\n",
        "  plot_value_array(i, predictions, test_labels)\n"
      ]
    },
    {
      "cell_type": "markdown",
      "metadata": {
        "id": "GKSODZSR302w"
      },
      "source": [
        "- img = test_images[0] ifadesi, test_images dizisinden ilk resmi seçer ve bu resmi img değişkenine kaydeder.Ardından, print(img.shape) ifadesi, resmin şeklini konsola yazdırır.\n",
        "- Örneğin, eğer resim 28 piksel yüksekliğinde ve 28 piksel genişliğinde bir gri tonlamalı resim ise, çıktı (28, 28, 1) olacaktır. Bu, resmin 28 satır, 28 sütun ve 1 kanala (siyah-beyaz) sahip olduğunu gösterir.\n",
        "\n",
        "Eğer resim 28 piksel yüksekliğinde, 28 piksel genişliğinde ve 3 kanala (kırmızı, yeşil ve mavi) sahip bir renkli resim ise, çıktı (28, 28, 3) olacaktır."
      ]
    },
    {
      "cell_type": "code",
      "execution_count": null,
      "metadata": {
        "id": "yRJ7JU7JCaXT"
      },
      "outputs": [],
      "source": [
        "# Grab an image from the test dataset\n",
        "img = test_images[0]\n",
        "\n",
        "print(img.shape)"
      ]
    },
    {
      "cell_type": "markdown",
      "metadata": {
        "id": "vRwe8xN7302x"
      },
      "source": [
        "- Bu kod parçacığının çıktısı, dizideki eleman sayısını, resmin yüksekliğini ve genişliğini temsil eden üç tam sayıdan oluşan bir demet olacaktır.\n",
        "\n",
        "Örneğin, eğer resim 28 piksel yüksekliğinde ve 28 piksel genişliğinde bir gri tonlamalı resim ise, çıktı (1, 28, 28) olacaktır. Bu, NumPy dizisinin 1 elemana sahip olduğunu, bu elemanın da resim olduğunu ve resmin 28 satır ve 28 sütuna sahip olduğunu gösterir.\n",
        "\n",
        "Tek bir resmi bir elemana sahip bir NumPy dizisine dönüştürmek, genellikle TensorFlow gibi makine öğrenimi kütüphanelerini kullanırken gerekli olan bir adımdır. Bu kütüphaneler, girdi verilerinin belirli bir formatta olmasını beklerler."
      ]
    },
    {
      "cell_type": "code",
      "execution_count": null,
      "metadata": {
        "id": "lDFh5yF_CaXW"
      },
      "outputs": [],
      "source": [
        "# Add the image to a batch where it's the only member.\n",
        "img = np.array([img])\n",
        "\n",
        "print(img.shape)"
      ]
    },
    {
      "cell_type": "markdown",
      "metadata": {
        "id": "2GF5sSNr302x"
      },
      "source": [
        "Aşağıdaki kod her bir sınıf için modelin tahmin ettiği olasılıkları içeren bir NumPy dizisi olacaktır.\n",
        "\n",
        "Örneğin, eğer model bir Fashion MNIST sınıflandırıcı ise, çıktı şöyle olabilir:\n",
        "\n",
        "[[0.1, 0.2, 0.3, 0.4, 0.5, 0.6, 0.7, 0.8, 0.9, 1.0]]\n",
        "Use code with caution\n",
        "Bu, modelin resmin 9. indexteki sınıfa %100 emin olduğunu gösterir."
      ]
    },
    {
      "cell_type": "code",
      "execution_count": null,
      "metadata": {
        "id": "o_rzNSdrCaXY"
      },
      "outputs": [],
      "source": [
        "predictions_single = model.predict(img)\n",
        "\n",
        "print(predictions_single)"
      ]
    },
    {
      "cell_type": "markdown",
      "metadata": {
        "id": "Y4oLyFXe302x"
      },
      "source": [
        "- plot_value_array(0, predictions_single, test_labels) ifadesi, modelin img değişkenindeki ilk resim için her sınıf için tahmin ettiği olasılıkları görselleştirmek için plot_value_array fonksiyonunu çağırır. Bu kodun çıktısı, her bir çubuğun bir sınıf için tahmin edilen olasılığı temsil ettiği bir çubuk grafiği olacaktır. Çubuklar, tahminin doğru olup olmadığına bağlı olarak renklendirilecektir."
      ]
    },
    {
      "cell_type": "code",
      "execution_count": null,
      "metadata": {
        "id": "6Ai-cpLjO-3A"
      },
      "outputs": [],
      "source": [
        "plot_value_array(0, predictions_single, test_labels)\n",
        "_ = plt.xticks(range(10), class_names, rotation=45)"
      ]
    },
    {
      "cell_type": "markdown",
      "metadata": {
        "id": "VyNUAH4l302y"
      },
      "source": [
        "- np.argmax(predictions_single[0]) img değişkenindeki ilk resim için en yüksek tahmin edilen olasılığa sahip sınıfın indeksini döndürür.\n",
        "\n",
        "Bu indeks, resmin tahmin edilen sınıfını belirlemek için kullanılabilir. Örneğin, indeks 3 ise, model ilk resmin bir elbise olduğunu tahmin eder."
      ]
    },
    {
      "cell_type": "code",
      "execution_count": null,
      "metadata": {
        "id": "2tRmdq_8CaXb"
      },
      "outputs": [],
      "source": [
        "np.argmax(predictions_single[0])"
      ]
    },
    {
      "cell_type": "code",
      "source": [
        "pip install pydot graphviz"
      ],
      "metadata": {
        "id": "XVP6apB57PF6"
      },
      "execution_count": null,
      "outputs": []
    },
    {
      "cell_type": "code",
      "source": [
        "from tensorflow.keras.utils import plot_model\n",
        "\n",
        "# Modeli çiz\n",
        "plot_model(model, to_file='model_plot.png', show_shapes=True, show_layer_names=True)"
      ],
      "metadata": {
        "id": "Ef47VOkA7VYR"
      },
      "execution_count": null,
      "outputs": []
    }
  ],
  "metadata": {
    "accelerator": "GPU",
    "colab": {
      "provenance": [],
      "toc_visible": true
    },
    "kernelspec": {
      "display_name": "Python 3",
      "name": "python3"
    },
    "language_info": {
      "codemirror_mode": {
        "name": "ipython",
        "version": 3
      },
      "file_extension": ".py",
      "mimetype": "text/x-python",
      "name": "python",
      "nbconvert_exporter": "python",
      "pygments_lexer": "ipython3",
      "version": "3.11.3"
    }
  },
  "nbformat": 4,
  "nbformat_minor": 0
}