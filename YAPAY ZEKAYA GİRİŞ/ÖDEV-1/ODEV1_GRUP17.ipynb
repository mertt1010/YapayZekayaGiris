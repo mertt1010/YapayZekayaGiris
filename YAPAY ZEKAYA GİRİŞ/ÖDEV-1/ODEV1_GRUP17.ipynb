{
 "cells": [
  {
   "cell_type": "markdown",
   "id": "137efc77-245b-481f-be1d-7a5e67a191c0",
   "metadata": {},
   "source": [
    "# YAPAY ZEKAYA GİRİŞ\n",
    "### ODEV 1\n",
    "Ödevde istenilen değerler sırası ile bunlardır\n",
    "\n",
    "- İbrahim Serhat Aktaş = 210601020\n",
    "\n",
    "- Mert Tosun           = 210601027\n",
    "\n",
    "- Kutay Can Batur      = 210601009"
   ]
  },
  {
   "cell_type": "code",
   "execution_count": null,
   "id": "408ecb29-7480-477e-b6de-5abe31c6323c",
   "metadata": {},
   "outputs": [],
   "source": [
    "n1 = 0 # 210601020\n",
    "n2 = 7 # 210601027\n",
    "n3 = 9 # 210601009\n",
    "\n",
    "a = (n1 + n2 + n3)\n",
    "b = 10*(n1 + n2 + n3)\n",
    "c = (n1 + n2 + n3)\n",
    "d = (2*n1 - n2 + n3)"
   ]
  },
  {
   "cell_type": "markdown",
   "id": "d1fa6abd-083c-4e90-90c8-e0ac7753347d",
   "metadata": {},
   "source": [
    "Değerler sırası ile aşağıdaki gibidir."
   ]
  },
  {
   "cell_type": "code",
   "execution_count": null,
   "id": "306654a1-f37a-43d5-a5f6-ac5427adb357",
   "metadata": {},
   "outputs": [],
   "source": [
    "print(a,b,c,d)"
   ]
  },
  {
   "cell_type": "markdown",
   "id": "ca9d04bb",
   "metadata": {},
   "source": [
    "Gerekli kütüphaneleri ekleyelim. "
   ]
  },
  {
   "cell_type": "code",
   "execution_count": null,
   "id": "1ccd58c0",
   "metadata": {},
   "outputs": [],
   "source": [
    "import tensorflow as tf\n",
    "import numpy as np\n",
    "import random"
   ]
  },
  {
   "cell_type": "markdown",
   "id": "130dba3b-1c19-41bb-8e76-88614e9d24ec",
   "metadata": {},
   "source": [
    "Bizden istenilen fonksyon \"y = acos(bx + c) + d\". \n",
    "\n",
    "Şimdi 20 adet örnek rastgele sonuç çıkaralım.\n"
   ]
  },
  {
   "cell_type": "code",
   "execution_count": null,
   "id": "468539b2-48c0-4040-8ff4-a6236bc0108d",
   "metadata": {},
   "outputs": [],
   "source": [
    "input_list = []\n",
    "output_list = []\n",
    "\n",
    "for i in range(20):\n",
    "    x = random.randrange(0, 100)\n",
    "    y = a * np.cos(b*x + c) + d\n",
    "    input_list.append(x)\n",
    "    output_list.append(y)\n",
    "\n",
    "input_array = np.array(input_list)\n",
    "output_array = np.array(output_list)\n",
    "\n",
    "print(input_array)\n",
    "print(output_array)\n"
   ]
  },
  {
   "cell_type": "markdown",
   "id": "cb5af334",
   "metadata": {},
   "source": [
    "Şimdi tek bir giriş ve tek bir çıkış birimine sahip basit bir sinir ağı modeli oluşturalım. \n",
    "Bu kod parçası, TensorFlow kullanarak, tek bir girişe sahip (input_shape=[1]) ve dört birime (units=4) sahip yoğun (Dense) bir katman içeren bir yapay sinir ağı modeli oluşturur."
   ]
  },
  {
   "cell_type": "code",
   "execution_count": null,
   "id": "29357c77-0b44-4c78-b071-bdc818856018",
   "metadata": {},
   "outputs": [],
   "source": [
    "l0 = tf.keras.layers.Dense(units=1, input_shape=[1])\n",
    "model = tf.keras.Sequential([l0])"
   ]
  },
  {
   "cell_type": "markdown",
   "id": "748f45a4",
   "metadata": {},
   "source": [
    "Modelin derlenmesi işlemi, kayıp fonksiyonu olarak mean_squared_error ve optimizasyon algoritması olarak Adam optimizer kullanılarak yapılır. Adam optimizer'ın öğrenme oranı (learning rate) 0.1 olarak belirlenmiştir."
   ]
  },
  {
   "cell_type": "code",
   "execution_count": null,
   "id": "05fcd3cd-c2a6-4c0a-a7ac-acebcd482523",
   "metadata": {},
   "outputs": [],
   "source": [
    "model.compile(loss='mean_squared_error',\n",
    "              optimizer=tf.keras.optimizers.Adam(0.1))"
   ]
  },
  {
   "cell_type": "markdown",
   "id": "b623cb66",
   "metadata": {},
   "source": [
    "Model, oluşturulan giriş ve çıktı dizileri kullanılarak eğitilir. Eğitim süreci 500 dönem (epoch) sürer ve eğitim sırasındaki ilerleme bilgisi gösterilmez (verbose=False). Eğitim tamamlandığında bir mesaj yazdırılır."
   ]
  },
  {
   "cell_type": "code",
   "execution_count": null,
   "id": "f5b8d753-6c13-4e72-a16c-25d3777c2530",
   "metadata": {},
   "outputs": [],
   "source": [
    "history = model.fit(input_array, output_array, epochs=500, verbose=False)\n",
    "print(\"Finished training the model\")"
   ]
  },
  {
   "cell_type": "markdown",
   "id": "8b8b8002",
   "metadata": {},
   "source": [
    "Bu kod parçası, eğitim süreci boyunca kayıp değerlerinin nasıl değiştiğini gösteren bir grafik çizer. Bu, modelin eğitim sürecindeki performansını gözlemlemek için kullanılır."
   ]
  },
  {
   "cell_type": "code",
   "execution_count": null,
   "id": "876906af-cf6a-43fd-8611-e34b44e6be7c",
   "metadata": {},
   "outputs": [],
   "source": [
    "import matplotlib.pyplot as plt\n",
    "plt.xlabel('Epoch Number')\n",
    "plt.ylabel(\"Loss Magnitude\")\n",
    "plt.plot(history.history['loss'])"
   ]
  },
  {
   "cell_type": "markdown",
   "id": "847e235a-e4c6-4017-b98a-dcabdeb2f8b0",
   "metadata": {},
   "source": [
    "10 Adet test sonucu:\n",
    "\n",
    "Model, 10 adet yeni rastgele x değeri üzerinde test edilir. Her bir test için, modelin tahmini (model.predict(test)) ve gerçek değer (a * np.cos(b*sayi + c) + d) yazdırılır. Bu, modelin genelleme kabiliyetini ve tahmin doğruluğunu değerlendirmek için kullanılır."
   ]
  },
  {
   "cell_type": "code",
   "execution_count": null,
   "id": "47b118af-aba6-4711-995c-28e054aca23b",
   "metadata": {},
   "outputs": [],
   "source": [
    "for i in range(10):\n",
    "    sayi = random.randrange(0, 100)\n",
    "    test = np.array([sayi])\n",
    "    print(\"input \" , sayi)\n",
    "    print(\"beklenen output \" , (a * np.cos(b*sayi + c) + d))\n",
    "    print(\"model output \" , model.predict(test))"
   ]
  }
 ],
 "metadata": {
  "kernelspec": {
   "display_name": "Python 3 (ipykernel)",
   "language": "python",
   "name": "python3"
  },
  "language_info": {
   "codemirror_mode": {
    "name": "ipython",
    "version": 3
   },
   "file_extension": ".py",
   "mimetype": "text/x-python",
   "name": "python",
   "nbconvert_exporter": "python",
   "pygments_lexer": "ipython3",
   "version": "3.12.1"
  }
 },
 "nbformat": 4,
 "nbformat_minor": 5
}
