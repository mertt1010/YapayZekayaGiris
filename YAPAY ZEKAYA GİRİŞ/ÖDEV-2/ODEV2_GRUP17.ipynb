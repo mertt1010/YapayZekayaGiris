{
 "cells": [
  {
   "cell_type": "markdown",
   "id": "137efc77-245b-481f-be1d-7a5e67a191c0",
   "metadata": {},
   "source": [
    "# YAPAY ZEKAYA GİRİŞ\n",
    "### ODEV 2\n",
    "Ödevde istenilen değerler sırası ile bunlardır\n",
    "\n",
    "- İbrahim Serhat Aktaş = 210601020\n",
    "\n",
    "- Mert Tosun           = 210601027\n",
    "\n",
    "- Kutay Can Batur      = 210601009"
   ]
  },
  {
   "cell_type": "code",
   "execution_count": 73,
   "id": "408ecb29-7480-477e-b6de-5abe31c6323c",
   "metadata": {},
   "outputs": [],
   "source": [
    "n1 = 0\n",
    "n2 = 7\n",
    "n3 = 9\n",
    "\n",
    "a = (n1 + n2 + n3)\n",
    "b = 10*(n1 + n2 + n3)\n",
    "c = (n1 + n2 + n3)\n",
    "d = (2*n1 - n2 + n3) "
   ]
  },
  {
   "cell_type": "markdown",
   "id": "d1fa6abd-083c-4e90-90c8-e0ac7753347d",
   "metadata": {},
   "source": [
    "Değerler sırası ile aşağıdaki gibidir."
   ]
  },
  {
   "cell_type": "code",
   "execution_count": 74,
   "id": "306654a1-f37a-43d5-a5f6-ac5427adb357",
   "metadata": {},
   "outputs": [
    {
     "name": "stdout",
     "output_type": "stream",
     "text": [
      "a: 16 b: 160 c: 16 d: 2\n"
     ]
    }
   ],
   "source": [
    "print(\"a:\", a, \"b:\", b, \"c:\", c, \"d:\", d)"
   ]
  },
  {
   "cell_type": "markdown",
   "id": "ca9d04bb",
   "metadata": {},
   "source": [
    "Gerekli kütüphaneleri ekleyelim. "
   ]
  },
  {
   "cell_type": "code",
   "execution_count": 75,
   "id": "1ccd58c0",
   "metadata": {},
   "outputs": [],
   "source": [
    "import tensorflow as tf\n",
    "import numpy as np\n",
    "import random \n",
    "import matplotlib.pyplot as plt\n",
    "from sklearn.model_selection import train_test_split\n",
    "from sklearn.preprocessing import MinMaxScaler"
   ]
  },
  {
   "cell_type": "markdown",
   "id": "130dba3b-1c19-41bb-8e76-88614e9d24ec",
   "metadata": {},
   "source": [
    "Tek periyot için sinyal üretimi yaptık ve normalize ettik.\n"
   ]
  },
  {
   "cell_type": "code",
   "execution_count": 76,
   "id": "468539b2-48c0-4040-8ff4-a6236bc0108d",
   "metadata": {},
   "outputs": [],
   "source": [
    "\n",
    "num_data_points = 200\n",
    "x = np.linspace(0, 2*np.pi, num_data_points)\n",
    "signal = a * np.cos(b*x + c) + d\n",
    "scaler = MinMaxScaler()\n",
    "normalized_signal = scaler.fit_transform(signal.reshape(-1, 1)).flatten()"
   ]
  },
  {
   "cell_type": "markdown",
   "id": "cb5af334",
   "metadata": {},
   "source": [
    "Modelin gürültüye duyarlılığını ayarlamak için noise_factor belirledik"
   ]
  },
  {
   "cell_type": "code",
   "execution_count": 77,
   "id": "29357c77-0b44-4c78-b071-bdc818856018",
   "metadata": {},
   "outputs": [],
   "source": [
    "noise_factor = 0.1\n",
    "input_list = []\n",
    "output_list = []\n"
   ]
  },
  {
   "cell_type": "markdown",
   "id": "748f45a4",
   "metadata": {},
   "source": [
    "En az 200 veri seti oluşturduk"
   ]
  },
  {
   "cell_type": "code",
   "execution_count": 78,
   "id": "05fcd3cd-c2a6-4c0a-a7ac-acebcd482523",
   "metadata": {},
   "outputs": [],
   "source": [
    "for i in range(num_data_points):\n",
    "    y = normalized_signal[i]"
   ]
  },
  {
   "cell_type": "markdown",
   "id": "b623cb66",
   "metadata": {},
   "source": [
    " Gürültü ekleme işlemini gerçekleştirdik."
   ]
  },
  {
   "cell_type": "code",
   "execution_count": 79,
   "id": "f5b8d753-6c13-4e72-a16c-25d3777c2530",
   "metadata": {},
   "outputs": [],
   "source": [
    "y_noisy = y + noise_factor * np.random.randn()\n",
    "input_list.append(y_noisy)\n",
    "output_list.append(y)\n",
    "\n",
    "input_array = np.array(input_list)\n",
    "output_array = np.array(output_list)"
   ]
  },
  {
   "cell_type": "markdown",
   "id": "8b8b8002",
   "metadata": {},
   "source": [
    "Eğitim ve test verisi olarak ayırma işlemini gerçekleştirdik."
   ]
  },
  {
   "cell_type": "code",
   "execution_count": 80,
   "id": "876906af-cf6a-43fd-8611-e34b44e6be7c",
   "metadata": {},
   "outputs": [
    {
     "ename": "ValueError",
     "evalue": "With n_samples=1, test_size=0.2 and train_size=None, the resulting train set will be empty. Adjust any of the aforementioned parameters.",
     "output_type": "error",
     "traceback": [
      "\u001b[1;31m---------------------------------------------------------------------------\u001b[0m",
      "\u001b[1;31mValueError\u001b[0m                                Traceback (most recent call last)",
      "Cell \u001b[1;32mIn[80], line 1\u001b[0m\n\u001b[1;32m----> 1\u001b[0m X_train, X_test, y_train, y_test \u001b[38;5;241m=\u001b[39m \u001b[43mtrain_test_split\u001b[49m\u001b[43m(\u001b[49m\u001b[43minput_array\u001b[49m\u001b[43m,\u001b[49m\u001b[43m \u001b[49m\u001b[43moutput_array\u001b[49m\u001b[43m,\u001b[49m\u001b[43m \u001b[49m\u001b[43mtest_size\u001b[49m\u001b[38;5;241;43m=\u001b[39;49m\u001b[38;5;241;43m0.2\u001b[39;49m\u001b[43m,\u001b[49m\u001b[43m \u001b[49m\u001b[43mrandom_state\u001b[49m\u001b[38;5;241;43m=\u001b[39;49m\u001b[38;5;241;43m42\u001b[39;49m\u001b[43m)\u001b[49m\n",
      "File \u001b[1;32mc:\\Users\\Mert\\AppData\\Local\\Programs\\Python\\Python311\\Lib\\site-packages\\sklearn\\model_selection\\_split.py:2562\u001b[0m, in \u001b[0;36mtrain_test_split\u001b[1;34m(test_size, train_size, random_state, shuffle, stratify, *arrays)\u001b[0m\n\u001b[0;32m   2559\u001b[0m arrays \u001b[38;5;241m=\u001b[39m indexable(\u001b[38;5;241m*\u001b[39marrays)\n\u001b[0;32m   2561\u001b[0m n_samples \u001b[38;5;241m=\u001b[39m _num_samples(arrays[\u001b[38;5;241m0\u001b[39m])\n\u001b[1;32m-> 2562\u001b[0m n_train, n_test \u001b[38;5;241m=\u001b[39m \u001b[43m_validate_shuffle_split\u001b[49m\u001b[43m(\u001b[49m\n\u001b[0;32m   2563\u001b[0m \u001b[43m    \u001b[49m\u001b[43mn_samples\u001b[49m\u001b[43m,\u001b[49m\u001b[43m \u001b[49m\u001b[43mtest_size\u001b[49m\u001b[43m,\u001b[49m\u001b[43m \u001b[49m\u001b[43mtrain_size\u001b[49m\u001b[43m,\u001b[49m\u001b[43m \u001b[49m\u001b[43mdefault_test_size\u001b[49m\u001b[38;5;241;43m=\u001b[39;49m\u001b[38;5;241;43m0.25\u001b[39;49m\n\u001b[0;32m   2564\u001b[0m \u001b[43m\u001b[49m\u001b[43m)\u001b[49m\n\u001b[0;32m   2566\u001b[0m \u001b[38;5;28;01mif\u001b[39;00m shuffle \u001b[38;5;129;01mis\u001b[39;00m \u001b[38;5;28;01mFalse\u001b[39;00m:\n\u001b[0;32m   2567\u001b[0m     \u001b[38;5;28;01mif\u001b[39;00m stratify \u001b[38;5;129;01mis\u001b[39;00m \u001b[38;5;129;01mnot\u001b[39;00m \u001b[38;5;28;01mNone\u001b[39;00m:\n",
      "File \u001b[1;32mc:\\Users\\Mert\\AppData\\Local\\Programs\\Python\\Python311\\Lib\\site-packages\\sklearn\\model_selection\\_split.py:2236\u001b[0m, in \u001b[0;36m_validate_shuffle_split\u001b[1;34m(n_samples, test_size, train_size, default_test_size)\u001b[0m\n\u001b[0;32m   2233\u001b[0m n_train, n_test \u001b[38;5;241m=\u001b[39m \u001b[38;5;28mint\u001b[39m(n_train), \u001b[38;5;28mint\u001b[39m(n_test)\n\u001b[0;32m   2235\u001b[0m \u001b[38;5;28;01mif\u001b[39;00m n_train \u001b[38;5;241m==\u001b[39m \u001b[38;5;241m0\u001b[39m:\n\u001b[1;32m-> 2236\u001b[0m     \u001b[38;5;28;01mraise\u001b[39;00m \u001b[38;5;167;01mValueError\u001b[39;00m(\n\u001b[0;32m   2237\u001b[0m         \u001b[38;5;124m\"\u001b[39m\u001b[38;5;124mWith n_samples=\u001b[39m\u001b[38;5;132;01m{}\u001b[39;00m\u001b[38;5;124m, test_size=\u001b[39m\u001b[38;5;132;01m{}\u001b[39;00m\u001b[38;5;124m and train_size=\u001b[39m\u001b[38;5;132;01m{}\u001b[39;00m\u001b[38;5;124m, the \u001b[39m\u001b[38;5;124m\"\u001b[39m\n\u001b[0;32m   2238\u001b[0m         \u001b[38;5;124m\"\u001b[39m\u001b[38;5;124mresulting train set will be empty. Adjust any of the \u001b[39m\u001b[38;5;124m\"\u001b[39m\n\u001b[0;32m   2239\u001b[0m         \u001b[38;5;124m\"\u001b[39m\u001b[38;5;124maforementioned parameters.\u001b[39m\u001b[38;5;124m\"\u001b[39m\u001b[38;5;241m.\u001b[39mformat(n_samples, test_size, train_size)\n\u001b[0;32m   2240\u001b[0m     )\n\u001b[0;32m   2242\u001b[0m \u001b[38;5;28;01mreturn\u001b[39;00m n_train, n_test\n",
      "\u001b[1;31mValueError\u001b[0m: With n_samples=1, test_size=0.2 and train_size=None, the resulting train set will be empty. Adjust any of the aforementioned parameters."
     ]
    }
   ],
   "source": [
    "X_train, X_test, y_train, y_test = train_test_split(input_array, output_array, test_size=0.2, random_state=42)\n"
   ]
  },
  {
   "cell_type": "markdown",
   "id": "847e235a-e4c6-4017-b98a-dcabdeb2f8b0",
   "metadata": {},
   "source": [
    "Basit Modelimizi oluşturduk"
   ]
  },
  {
   "cell_type": "code",
   "execution_count": null,
   "id": "47b118af-aba6-4711-995c-28e054aca23b",
   "metadata": {},
   "outputs": [],
   "source": [
    "model_simple = tf.keras.Sequential([\n",
    "    tf.keras.layers.Dense(64, activation='relu', input_shape=(1,)),\n",
    "    tf.keras.layers.Dense(1)\n",
    "])\n",
    "model_simple.compile(loss='mean_squared_error', optimizer='adam')"
   ]
  },
  {
   "cell_type": "markdown",
   "id": "391b8b54",
   "metadata": {},
   "source": [
    "Model eğitim kısmını gerçekleştirdik."
   ]
  },
  {
   "cell_type": "code",
   "execution_count": null,
   "id": "469f9b54",
   "metadata": {},
   "outputs": [],
   "source": [
    "history_simple = model_simple.fit(X_train, y_train, epochs=100, validation_data=(X_test, y_test), verbose=0)\n"
   ]
  },
  {
   "cell_type": "markdown",
   "id": "c09f55a5",
   "metadata": {},
   "source": [
    "Karmaşık Modelimiz"
   ]
  },
  {
   "cell_type": "code",
   "execution_count": null,
   "id": "6d1197f1",
   "metadata": {},
   "outputs": [],
   "source": [
    "model_complex = tf.keras.Sequential([\n",
    "    tf.keras.layers.Dense(128, activation='relu', input_shape=(1,)),\n",
    "    tf.keras.layers.Dense(64, activation='relu'),\n",
    "    tf.keras.layers.Dense(32, activation='relu'),\n",
    "    tf.keras.layers.Dense(1)\n",
    "])\n",
    "\n",
    "model_complex.compile(loss='mean_squared_error', optimizer='adam')"
   ]
  },
  {
   "cell_type": "markdown",
   "id": "ef52a48e",
   "metadata": {},
   "source": [
    "Model eğitme kısmı"
   ]
  },
  {
   "cell_type": "code",
   "execution_count": null,
   "id": "2afcd267",
   "metadata": {},
   "outputs": [],
   "source": [
    "history_complex = model_complex.fit(X_train, y_train, epochs=100, validation_data=(X_test, y_test), verbose=0)"
   ]
  },
  {
   "cell_type": "markdown",
   "id": "380bdd07",
   "metadata": {},
   "source": [
    "Model tahminleri"
   ]
  },
  {
   "cell_type": "code",
   "execution_count": null,
   "id": "0cc7758f",
   "metadata": {},
   "outputs": [],
   "source": [
    "def predict_and_plot(model, title):\n",
    "    y_pred = model.predict(X_test)\n",
    "\n",
    "    plt.figure(figsize=(10, 5))\n",
    "    plt.scatter(X_test, y_test, color='blue', label='Gerçek Veri')\n",
    "    plt.scatter(X_test, y_pred, color='red', label='Tahmin')\n",
    "    plt.title(title)\n",
    "    plt.legend()\n",
    "    plt.show()"
   ]
  },
  {
   "cell_type": "markdown",
   "id": "d58be5d2",
   "metadata": {},
   "source": [
    "Basit Model Tahminleri"
   ]
  },
  {
   "cell_type": "code",
   "execution_count": null,
   "id": "a8af8d6a",
   "metadata": {},
   "outputs": [],
   "source": [
    "predict_and_plot(model_simple, \"Basit Model Tahminleri\")"
   ]
  },
  {
   "cell_type": "markdown",
   "id": "47a5dade",
   "metadata": {},
   "source": [
    "Karmaşık Model Tahminleri"
   ]
  },
  {
   "cell_type": "code",
   "execution_count": null,
   "id": "0c2a9f34",
   "metadata": {},
   "outputs": [],
   "source": [
    "predict_and_plot(model_complex, \"Karmaşık Model Tahminleri\")"
   ]
  },
  {
   "cell_type": "markdown",
   "id": "24c85b8d",
   "metadata": {},
   "source": [
    "Model eğitim süreçlerinin grafiği"
   ]
  },
  {
   "cell_type": "code",
   "execution_count": null,
   "id": "7215082e",
   "metadata": {},
   "outputs": [],
   "source": [
    "def plot_loss(history, title):\n",
    "    plt.figure(figsize=(10, 5))\n",
    "    plt.plot(history.history['loss'], label='Eğitim Loss')\n",
    "    plt.plot(history.history['val_loss'], label='Validation Loss')\n",
    "    plt.title(title)\n",
    "    plt.xlabel('Epoch')\n",
    "    plt.ylabel('Loss')\n",
    "    plt.legend()\n",
    "    plt.show()"
   ]
  },
  {
   "cell_type": "markdown",
   "id": "59738f0a",
   "metadata": {},
   "source": [
    "Basit Model Eğitim Süreci"
   ]
  },
  {
   "cell_type": "code",
   "execution_count": null,
   "id": "26d743b3",
   "metadata": {},
   "outputs": [],
   "source": [
    "plot_loss(history_simple, \"Basit Model Eğitim Süreci\")"
   ]
  },
  {
   "cell_type": "markdown",
   "id": "863c10df",
   "metadata": {},
   "source": [
    "Karmaşık Model Eğitim Süreci"
   ]
  },
  {
   "cell_type": "code",
   "execution_count": null,
   "id": "0efcfca7",
   "metadata": {},
   "outputs": [],
   "source": [
    "plot_loss(history_complex, \"Karmaşık Model Eğitim Süreci\")"
   ]
  }
 ],
 "metadata": {
  "kernelspec": {
   "display_name": "Python 3 (ipykernel)",
   "language": "python",
   "name": "python3"
  },
  "language_info": {
   "codemirror_mode": {
    "name": "ipython",
    "version": 3
   },
   "file_extension": ".py",
   "mimetype": "text/x-python",
   "name": "python",
   "nbconvert_exporter": "python",
   "pygments_lexer": "ipython3",
   "version": "3.11.3"
  }
 },
 "nbformat": 4,
 "nbformat_minor": 5
}
